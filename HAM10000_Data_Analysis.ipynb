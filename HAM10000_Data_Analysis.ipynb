{
 "cells": [
  {
   "attachments": {},
   "cell_type": "markdown",
   "metadata": {},
   "source": [
    "# Skin Cancer Detection\n",
    "\n",
    "Final project for Computed-aided Diagnosis\n",
    "\n",
    "**Ana Poças, nº98425 e Beatriz Cruzeiro, nº97934**"
   ]
  },
  {
   "attachments": {},
   "cell_type": "markdown",
   "metadata": {},
   "source": [
    "# Dataset Analysis and Preparation"
   ]
  },
  {
   "attachments": {},
   "cell_type": "markdown",
   "metadata": {},
   "source": [
    "Notas\n",
    "-Fazer data augmentation com transformações geométricas e sem as cores.\n",
    "\n",
    "Experimentar balancear os locais do corpo\n",
    "Se estivermos a ter problema com o tempo de running do codigo ou os kernels morrerem a meio, diminuir o tamanha do batch size\n",
    "todos os modelos têm o .history que guarda os valores da função loss ao longo das épocas e podemos depois fazer um gráfico (tanto em treino como em teste)\n",
    "tensorboeard (para os mais geeks) permite ver muitas mais coisas, tipo uma aplicação)"
   ]
  },
  {
   "attachments": {},
   "cell_type": "markdown",
   "metadata": {},
   "source": [
    "# Imports"
   ]
  },
  {
   "cell_type": "code",
   "execution_count": null,
   "metadata": {},
   "outputs": [],
   "source": []
  }
 ],
 "metadata": {
  "language_info": {
   "name": "python"
  },
  "orig_nbformat": 4
 },
 "nbformat": 4,
 "nbformat_minor": 2
}
